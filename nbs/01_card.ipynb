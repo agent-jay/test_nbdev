{
 "cells": [
  {
   "cell_type": "code",
   "execution_count": null,
   "metadata": {},
   "outputs": [],
   "source": [
    "#| default_exp card"
   ]
  },
  {
   "cell_type": "markdown",
   "metadata": {},
   "source": [
    "# card\n",
    "\n",
    "> A simple API for creating and using playing cards"
   ]
  },
  {
   "cell_type": "code",
   "execution_count": null,
   "metadata": {},
   "outputs": [],
   "source": [
    "#| hide\n",
    "from nbdev.showdoc import *"
   ]
  },
  {
   "cell_type": "code",
   "execution_count": null,
   "metadata": {},
   "outputs": [],
   "source": [
    "#| hide\n",
    "import nbdev; nbdev.nbdev_export()"
   ]
  },
  {
   "cell_type": "code",
   "execution_count": null,
   "metadata": {},
   "outputs": [],
   "source": [
    "#| export\n",
    "class Booger:\n",
    "    \"A Booger object\"\n",
    "    def __init__(self, \n",
    "                 snots:int, # A snot is the individual component of a booger. A booger can have multiple snots\n",
    "                 phlegm:bool # Phlegm is the quality of a booger ie wetness\n",
    "                ): self.snots,self.phlegm= snots,phlegm\n",
    "    def __str__(self): \n",
    "        if self.phlegm:\n",
    "            wet= \"it is wet\"\n",
    "        else:\n",
    "            wet= \"it isn't wet\"\n",
    "        return f\"{self.snots}# of snots in this Booger and {wet} \"\n",
    "    __repr__=__str__\n"
   ]
  },
  {
   "cell_type": "code",
   "execution_count": null,
   "metadata": {},
   "outputs": [
    {
     "data": {
      "text/markdown": [
       "---\n",
       "\n",
       "### Booger\n",
       "\n",
       ">      Booger (snots:int, phlegm:bool)\n",
       "\n",
       "A Booger object\n",
       "\n",
       "|    | **Type** | **Details** |\n",
       "| -- | -------- | ----------- |\n",
       "| snots | int | A snot is the individual component of a booger. A booger can have multiple snots |\n",
       "| phlegm | bool | Phlegm is the quality of a booger ie wetness |"
      ],
      "text/plain": [
       "---\n",
       "\n",
       "### Booger\n",
       "\n",
       ">      Booger (snots:int, phlegm:bool)\n",
       "\n",
       "A Booger object\n",
       "\n",
       "|    | **Type** | **Details** |\n",
       "| -- | -------- | ----------- |\n",
       "| snots | int | A snot is the individual component of a booger. A booger can have multiple snots |\n",
       "| phlegm | bool | Phlegm is the quality of a booger ie wetness |"
      ]
     },
     "execution_count": null,
     "metadata": {},
     "output_type": "execute_result"
    }
   ],
   "source": [
    "show_doc(Booger) #This isn't super useful since nbdev will print this docstring anyway"
   ]
  },
  {
   "cell_type": "code",
   "execution_count": null,
   "metadata": {},
   "outputs": [
    {
     "data": {
      "text/plain": [
       "3# of snots in this Booger and it isn't wet "
      ]
     },
     "execution_count": null,
     "metadata": {},
     "output_type": "execute_result"
    }
   ],
   "source": [
    "Booger(3,False)"
   ]
  },
  {
   "cell_type": "markdown",
   "metadata": {},
   "source": [
    "## This is a second level heading\n",
    "\n",
    "Should show up in the index. Now using showdoc for other libraries not defined in the notebook"
   ]
  },
  {
   "cell_type": "code",
   "execution_count": null,
   "metadata": {},
   "outputs": [],
   "source": [
    "#|hide \n",
    "import numpy as np"
   ]
  },
  {
   "cell_type": "code",
   "execution_count": null,
   "metadata": {},
   "outputs": [
    {
     "name": "stderr",
     "output_type": "stream",
     "text": [
      "/mnt/data1/miniconda/envs/trading/lib/python3.9/site-packages/fastcore/docscrape.py:225: UserWarning: Unknown section See Also\n",
      "  else: warn(msg)\n",
      "/mnt/data1/miniconda/envs/trading/lib/python3.9/site-packages/fastcore/docscrape.py:225: UserWarning: Unknown section Examples\n",
      "  else: warn(msg)\n"
     ]
    },
    {
     "data": {
      "text/markdown": [
       "---\n",
       "\n",
       "### RandomState.rand\n",
       "\n",
       "\n",
       "\n",
       "Random values in a given shape.\n",
       "\n",
       ".. note::\n",
       "    This is a convenience function for users porting code from Matlab,\n",
       "    and wraps `random_sample`. That function takes a\n",
       "    tuple to specify the size of the output, which is consistent with\n",
       "    other NumPy functions like `numpy.zeros` and `numpy.ones`.\n",
       "\n",
       "Create an array of the given shape and populate it with\n",
       "random samples from a uniform distribution\n",
       "over ``[0, 1)``."
      ],
      "text/plain": [
       "---\n",
       "\n",
       "### RandomState.rand\n",
       "\n",
       "\n",
       "\n",
       "Random values in a given shape.\n",
       "\n",
       ".. note::\n",
       "    This is a convenience function for users porting code from Matlab,\n",
       "    and wraps `random_sample`. That function takes a\n",
       "    tuple to specify the size of the output, which is consistent with\n",
       "    other NumPy functions like `numpy.zeros` and `numpy.ones`.\n",
       "\n",
       "Create an array of the given shape and populate it with\n",
       "random samples from a uniform distribution\n",
       "over ``[0, 1)``."
      ]
     },
     "execution_count": null,
     "metadata": {},
     "output_type": "execute_result"
    }
   ],
   "source": [
    "show_doc(np.random.rand) #This line wouldn't appear in the doc, just the output"
   ]
  }
 ],
 "metadata": {
  "kernelspec": {
   "display_name": "python3",
   "language": "python",
   "name": "python3"
  }
 },
 "nbformat": 4,
 "nbformat_minor": 4
}
