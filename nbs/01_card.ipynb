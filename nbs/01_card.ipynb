{
 "cells": [
  {
   "cell_type": "code",
   "execution_count": null,
   "metadata": {},
   "outputs": [],
   "source": [
    "#| default_exp card"
   ]
  },
  {
   "cell_type": "markdown",
   "metadata": {},
   "source": [
    "# card\n",
    "\n",
    "> A simple API for creating and using playing cards"
   ]
  },
  {
   "cell_type": "code",
   "execution_count": null,
   "metadata": {},
   "outputs": [],
   "source": [
    "#| hide\n",
    "from nbdev.showdoc import *"
   ]
  },
  {
   "cell_type": "code",
   "execution_count": null,
   "metadata": {},
   "outputs": [],
   "source": [
    "#| hide\n",
    "import nbdev; nbdev.nbdev_export()"
   ]
  },
  {
   "cell_type": "code",
   "execution_count": null,
   "metadata": {},
   "outputs": [],
   "source": [
    "#| export\n",
    "class Booger:\n",
    "    \"A Booger object\"\n",
    "    def __init__(self, \n",
    "                 snots:int, # A snot is the individual component of a booger. A booger can have multiple snots\n",
    "                 phlegm:bool # Phlegm is the quality of a booger ie wetness\n",
    "                ): self.snots,self.phlegm= snots,phlegm\n",
    "    def __str__(self): \n",
    "        if self.phlegm:\n",
    "            wet= \"it is wet\"\n",
    "        else:\n",
    "            wet= \"it isn't wet\"\n",
    "        return f\"{self.snots}# of snots in this Booger and {wet} \"\n",
    "    __repr__=__str__\n"
   ]
  },
  {
   "cell_type": "code",
   "execution_count": null,
   "metadata": {},
   "outputs": [
    {
     "data": {
      "text/markdown": [
       "---\n",
       "\n",
       "### Booger\n",
       "\n",
       ">      Booger (snots:int, phlegm:bool)\n",
       "\n",
       "A Booger object\n",
       "\n",
       "|    | **Type** | **Details** |\n",
       "| -- | -------- | ----------- |\n",
       "| snots | int | A snot is the individual component of a booger. A booger can have multiple snots |\n",
       "| phlegm | bool | Phlegm is the quality of a booger ie wetness |"
      ],
      "text/plain": [
       "---\n",
       "\n",
       "### Booger\n",
       "\n",
       ">      Booger (snots:int, phlegm:bool)\n",
       "\n",
       "A Booger object\n",
       "\n",
       "|    | **Type** | **Details** |\n",
       "| -- | -------- | ----------- |\n",
       "| snots | int | A snot is the individual component of a booger. A booger can have multiple snots |\n",
       "| phlegm | bool | Phlegm is the quality of a booger ie wetness |"
      ]
     },
     "execution_count": null,
     "metadata": {},
     "output_type": "execute_result"
    }
   ],
   "source": [
    "show_doc(Booger) #This isn't super useful since nbdev will print this docstring anyway"
   ]
  },
  {
   "cell_type": "code",
   "execution_count": null,
   "metadata": {},
   "outputs": [
    {
     "data": {
      "text/plain": [
       "3# of snots in this Booger and it isn't wet "
      ]
     },
     "execution_count": null,
     "metadata": {},
     "output_type": "execute_result"
    }
   ],
   "source": [
    "Booger(3,False)"
   ]
  },
  {
   "cell_type": "markdown",
   "metadata": {},
   "source": [
    "## This is a second level heading\n",
    "\n",
    "Should show up in the index. Now using showdoc for other libraries not defined in the notebook"
   ]
  },
  {
   "cell_type": "code",
   "execution_count": null,
   "metadata": {},
   "outputs": [],
   "source": [
    "#|hide \n",
    "import numpy as np"
   ]
  },
  {
   "cell_type": "code",
   "execution_count": null,
   "metadata": {},
   "outputs": [
    {
     "data": {
      "text/markdown": [
       "---\n",
       "\n",
       "### print\n",
       "\n",
       "\n",
       "\n",
       "Prints the values to a stream, or to sys.stdout by default.\n",
       "Optional keyword arguments:\n",
       "file:  a file-like object (stream); defaults to the current sys.stdout.\n",
       "sep:   string inserted between values, default a space.\n",
       "end:   string appended after the last value, default a newline.\n",
       "flush: whether to forcibly flush the stream."
      ],
      "text/plain": [
       "---\n",
       "\n",
       "### print\n",
       "\n",
       "\n",
       "\n",
       "Prints the values to a stream, or to sys.stdout by default.\n",
       "Optional keyword arguments:\n",
       "file:  a file-like object (stream); defaults to the current sys.stdout.\n",
       "sep:   string inserted between values, default a space.\n",
       "end:   string appended after the last value, default a newline.\n",
       "flush: whether to forcibly flush the stream."
      ]
     },
     "execution_count": null,
     "metadata": {},
     "output_type": "execute_result"
    }
   ],
   "source": [
    "show_doc(print) #This line wouldn't appear in the doc, just the output"
   ]
  }
 ],
 "metadata": {
  "kernelspec": {
   "display_name": "python3",
   "language": "python",
   "name": "python3"
  }
 },
 "nbformat": 4,
 "nbformat_minor": 4
}
